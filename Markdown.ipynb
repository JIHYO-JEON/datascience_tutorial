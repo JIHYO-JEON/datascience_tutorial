{
 "cells": [
  {
   "cell_type": "markdown",
   "metadata": {},
   "source": [
    "# About Markdown\n",
    "## markdown title 2\n",
    "### markdown title 3\n",
    "\n",
    "* `important` is important\n",
    "* `Shift` + `Enter` = Run and go to the next cell\n",
    "* `Enter` = editing\n",
    "* `esc` +\n",
    "    * `a` add a cell above\n",
    "    * `b` add a cell below\n",
    "    * `dd` delete the cell\n",
    "    * `m` change to the markdown cell\n",
    "    * `c` change to the code cell"
   ]
  },
  {
   "cell_type": "code",
   "execution_count": 1,
   "metadata": {},
   "outputs": [
    {
     "name": "stdout",
     "output_type": "stream",
     "text": [
      "hello wolrd!\n"
     ]
    }
   ],
   "source": [
    "print(\"hello wolrd!\")"
   ]
  },
  {
   "cell_type": "code",
   "execution_count": null,
   "metadata": {},
   "outputs": [],
   "source": []
  }
 ],
 "metadata": {
  "kernelspec": {
   "display_name": "Python 3",
   "language": "python",
   "name": "python3"
  },
  "language_info": {
   "codemirror_mode": {
    "name": "ipython",
    "version": 3
   },
   "file_extension": ".py",
   "mimetype": "text/x-python",
   "name": "python",
   "nbconvert_exporter": "python",
   "pygments_lexer": "ipython3",
   "version": "3.8.3"
  }
 },
 "nbformat": 4,
 "nbformat_minor": 4
}
